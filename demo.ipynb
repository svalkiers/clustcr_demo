{
 "cells": [
  {
   "cell_type": "markdown",
   "id": "3e808bc7",
   "metadata": {},
   "source": [
    "# **AIRR-C Meeting Software Demo: ClusTCR**"
   ]
  },
  {
   "cell_type": "markdown",
   "id": "9dd5eb9b-9483-435e-9fdc-fe23e87b9fd3",
   "metadata": {},
   "source": [
    "![](./workflow.png \"ClusTCR workflow\")"
   ]
  },
  {
   "cell_type": "markdown",
   "id": "229b8366-8a1c-4eb2-a8c2-c6d349b96574",
   "metadata": {},
   "source": [
    "## 1. Installation\n",
    "ClusTCR runs as a python package, and is available through the conda repository. Therefore, users should have installed anaconda to use make use of the ClusTCR. After installing anaconda, ClusTCR can be installed by running the following command in the command prompt: \n",
    "\\\n",
    "\\\n",
    "`$ conda install clustcr -c svalkiers -c bioconda -c pytorch -c conda-forge`"
   ]
  },
  {
   "cell_type": "markdown",
   "id": "3fad45d1",
   "metadata": {},
   "source": [
    "## 1. Importing data\n",
    "For the purpose of this software demonstration, we will use an example repertoire consisting of **100,000 unique TCR clonotypes** (V + J + CDR3). In addition to `clustcr` We will use the `pandas` library to handle the data."
   ]
  },
  {
   "cell_type": "code",
   "execution_count": 1,
   "id": "f55f174e",
   "metadata": {},
   "outputs": [],
   "source": [
    "import pandas as pd # We will use the pandas library for data handling"
   ]
  },
  {
   "cell_type": "code",
   "execution_count": 83,
   "id": "bf2ba511",
   "metadata": {},
   "outputs": [
    {
     "data": {
      "text/html": [
       "<div>\n",
       "<style scoped>\n",
       "    .dataframe tbody tr th:only-of-type {\n",
       "        vertical-align: middle;\n",
       "    }\n",
       "\n",
       "    .dataframe tbody tr th {\n",
       "        vertical-align: top;\n",
       "    }\n",
       "\n",
       "    .dataframe thead th {\n",
       "        text-align: right;\n",
       "    }\n",
       "</style>\n",
       "<table border=\"1\" class=\"dataframe\">\n",
       "  <thead>\n",
       "    <tr style=\"text-align: right;\">\n",
       "      <th></th>\n",
       "      <th>duplicate_count</th>\n",
       "      <th>frequency</th>\n",
       "      <th>vgene</th>\n",
       "      <th>jgene</th>\n",
       "      <th>cdr3</th>\n",
       "    </tr>\n",
       "  </thead>\n",
       "  <tbody>\n",
       "    <tr>\n",
       "      <th>0</th>\n",
       "      <td>52.0</td>\n",
       "      <td>0.000669</td>\n",
       "      <td>TRBV24-1*00</td>\n",
       "      <td>TRBJ2-3*00</td>\n",
       "      <td>CATSDRGVADTQYF</td>\n",
       "    </tr>\n",
       "    <tr>\n",
       "      <th>1</th>\n",
       "      <td>35.0</td>\n",
       "      <td>0.000451</td>\n",
       "      <td>TRBV7-2*00</td>\n",
       "      <td>TRBJ2-5*00</td>\n",
       "      <td>CASSLGLAALQETQYF</td>\n",
       "    </tr>\n",
       "    <tr>\n",
       "      <th>2</th>\n",
       "      <td>27.0</td>\n",
       "      <td>0.000348</td>\n",
       "      <td>TRBV4-1*00</td>\n",
       "      <td>TRBJ1-1*00</td>\n",
       "      <td>CASSQEGSPEAFF</td>\n",
       "    </tr>\n",
       "    <tr>\n",
       "      <th>3</th>\n",
       "      <td>25.0</td>\n",
       "      <td>0.000322</td>\n",
       "      <td>TRBV6-1*00</td>\n",
       "      <td>TRBJ1-2*00</td>\n",
       "      <td>CASSWGQDGYTF</td>\n",
       "    </tr>\n",
       "    <tr>\n",
       "      <th>4</th>\n",
       "      <td>25.0</td>\n",
       "      <td>0.000322</td>\n",
       "      <td>TRBV6-2*00</td>\n",
       "      <td>TRBJ2-1*00</td>\n",
       "      <td>CASTDWTSGNEQFF</td>\n",
       "    </tr>\n",
       "    <tr>\n",
       "      <th>...</th>\n",
       "      <td>...</td>\n",
       "      <td>...</td>\n",
       "      <td>...</td>\n",
       "      <td>...</td>\n",
       "      <td>...</td>\n",
       "    </tr>\n",
       "    <tr>\n",
       "      <th>99995</th>\n",
       "      <td>1.0</td>\n",
       "      <td>0.000006</td>\n",
       "      <td>TRBV18*00</td>\n",
       "      <td>TRBJ2-2*00</td>\n",
       "      <td>CASSPKGTANTGELFF</td>\n",
       "    </tr>\n",
       "    <tr>\n",
       "      <th>99996</th>\n",
       "      <td>1.0</td>\n",
       "      <td>0.000006</td>\n",
       "      <td>TRBV20-1*00</td>\n",
       "      <td>TRBJ1-1*00</td>\n",
       "      <td>CSARGDTGRDTEAFF</td>\n",
       "    </tr>\n",
       "    <tr>\n",
       "      <th>99997</th>\n",
       "      <td>1.0</td>\n",
       "      <td>0.000006</td>\n",
       "      <td>TRBV29-1*00</td>\n",
       "      <td>TRBJ2-7*00</td>\n",
       "      <td>CSALQGPYEQYF</td>\n",
       "    </tr>\n",
       "    <tr>\n",
       "      <th>99998</th>\n",
       "      <td>1.0</td>\n",
       "      <td>0.000006</td>\n",
       "      <td>TRBV20-1*00</td>\n",
       "      <td>TRBJ2-7*00</td>\n",
       "      <td>CSALPARGSLYEQYF</td>\n",
       "    </tr>\n",
       "    <tr>\n",
       "      <th>99999</th>\n",
       "      <td>1.0</td>\n",
       "      <td>0.000006</td>\n",
       "      <td>TRBV3-1*00</td>\n",
       "      <td>TRBJ1-5*00</td>\n",
       "      <td>CASSQEKGTGSNQPQHF</td>\n",
       "    </tr>\n",
       "  </tbody>\n",
       "</table>\n",
       "<p>100000 rows × 5 columns</p>\n",
       "</div>"
      ],
      "text/plain": [
       "       duplicate_count  frequency        vgene       jgene               cdr3\n",
       "0                 52.0   0.000669  TRBV24-1*00  TRBJ2-3*00     CATSDRGVADTQYF\n",
       "1                 35.0   0.000451   TRBV7-2*00  TRBJ2-5*00   CASSLGLAALQETQYF\n",
       "2                 27.0   0.000348   TRBV4-1*00  TRBJ1-1*00      CASSQEGSPEAFF\n",
       "3                 25.0   0.000322   TRBV6-1*00  TRBJ1-2*00       CASSWGQDGYTF\n",
       "4                 25.0   0.000322   TRBV6-2*00  TRBJ2-1*00     CASTDWTSGNEQFF\n",
       "...                ...        ...          ...         ...                ...\n",
       "99995              1.0   0.000006    TRBV18*00  TRBJ2-2*00   CASSPKGTANTGELFF\n",
       "99996              1.0   0.000006  TRBV20-1*00  TRBJ1-1*00    CSARGDTGRDTEAFF\n",
       "99997              1.0   0.000006  TRBV29-1*00  TRBJ2-7*00       CSALQGPYEQYF\n",
       "99998              1.0   0.000006  TRBV20-1*00  TRBJ2-7*00    CSALPARGSLYEQYF\n",
       "99999              1.0   0.000006   TRBV3-1*00  TRBJ1-5*00  CASSQEKGTGSNQPQHF\n",
       "\n",
       "[100000 rows x 5 columns]"
      ]
     },
     "execution_count": 83,
     "metadata": {},
     "output_type": "execute_result"
    }
   ],
   "source": [
    "data = pd.read_csv(\"./data/repertoire.tsv\", sep=\"\\t\")\n",
    "data"
   ]
  },
  {
   "cell_type": "markdown",
   "id": "af6a5c2d",
   "metadata": {},
   "source": [
    "## 2. Applying the clustcr clustering library"
   ]
  },
  {
   "cell_type": "code",
   "execution_count": 15,
   "id": "6558df47-f590-4198-9ee2-1485b3e9e000",
   "metadata": {},
   "outputs": [],
   "source": [
    "from clustcr import Clustering # We will use the clustcr library for TCR clustering"
   ]
  },
  {
   "cell_type": "markdown",
   "id": "9a958525-7dd4-482c-9a2f-4f459f2e370b",
   "metadata": {},
   "source": [
    "ClusTCR is a clustering library specifically developed for fast and efficient grouping of TCR sequences, based on their sequence similarity. ClusTCR was benchmarked for clustering accuracy and computational performance against other published TCR clustering methods, including TCRDist, GLIPH2, iSMART and the recent GIANA. ClusTCR shows significant improvement in speed while maintaining comparable accuracy with other tools.\n",
    "\\\n",
    "\\\n",
    "![](./fig/benchmark.png)"
   ]
  },
  {
   "cell_type": "markdown",
   "id": "6c63d4a0-5615-4a65-85e4-7c8f1aec1211",
   "metadata": {},
   "source": [
    "### 2.1. CDR3-based clustering\n",
    "We start with an easy example, in which we use the **default parameters** of ClusTCR to cluster the **CDR3 sequences** in the input data. ClusTCR uses the follows the `scikit-klearn` practices, so we start by generating a Clustering object to which we will fit the data."
   ]
  },
  {
   "cell_type": "code",
   "execution_count": 84,
   "id": "bb0ea7d3",
   "metadata": {},
   "outputs": [
    {
     "name": "stdout",
     "output_type": "stream",
     "text": [
      "Clustering 100000 TCRs using two-step approach.\n",
      "Total time to run ClusTCR: 32.979s\n"
     ]
    }
   ],
   "source": [
    "clustering_configuration_1 = Clustering()\n",
    "result_1 = clustering_configuration_1.fit(data.cdr3)"
   ]
  },
  {
   "cell_type": "markdown",
   "id": "5e8b97e6-526f-4904-b4e8-7d46a330f5c0",
   "metadata": {},
   "source": [
    "Next, we can access the clustering results via the `.clusters_df` attribute."
   ]
  },
  {
   "cell_type": "code",
   "execution_count": 85,
   "id": "d270ccd3-762a-476e-a429-adb93f4e7203",
   "metadata": {},
   "outputs": [
    {
     "data": {
      "text/html": [
       "<div>\n",
       "<style scoped>\n",
       "    .dataframe tbody tr th:only-of-type {\n",
       "        vertical-align: middle;\n",
       "    }\n",
       "\n",
       "    .dataframe tbody tr th {\n",
       "        vertical-align: top;\n",
       "    }\n",
       "\n",
       "    .dataframe thead th {\n",
       "        text-align: right;\n",
       "    }\n",
       "</style>\n",
       "<table border=\"1\" class=\"dataframe\">\n",
       "  <thead>\n",
       "    <tr style=\"text-align: right;\">\n",
       "      <th></th>\n",
       "      <th>CDR3</th>\n",
       "      <th>cluster</th>\n",
       "    </tr>\n",
       "  </thead>\n",
       "  <tbody>\n",
       "    <tr>\n",
       "      <th>0</th>\n",
       "      <td>CASSVALAGVTDTQYF</td>\n",
       "      <td>0</td>\n",
       "    </tr>\n",
       "    <tr>\n",
       "      <th>1</th>\n",
       "      <td>CASSVGLAGVTDTQYF</td>\n",
       "      <td>0</td>\n",
       "    </tr>\n",
       "    <tr>\n",
       "      <th>2</th>\n",
       "      <td>CASSSRLAGGTDTQYF</td>\n",
       "      <td>0</td>\n",
       "    </tr>\n",
       "    <tr>\n",
       "      <th>3</th>\n",
       "      <td>CASSSRLAVGTDTQYF</td>\n",
       "      <td>0</td>\n",
       "    </tr>\n",
       "    <tr>\n",
       "      <th>4</th>\n",
       "      <td>CASSLGLAGGTDTQYF</td>\n",
       "      <td>0</td>\n",
       "    </tr>\n",
       "    <tr>\n",
       "      <th>...</th>\n",
       "      <td>...</td>\n",
       "      <td>...</td>\n",
       "    </tr>\n",
       "    <tr>\n",
       "      <th>29431</th>\n",
       "      <td>CSVVGVRDTDTQYF</td>\n",
       "      <td>4357</td>\n",
       "    </tr>\n",
       "    <tr>\n",
       "      <th>29432</th>\n",
       "      <td>CASSQTSGINEQFF</td>\n",
       "      <td>4358</td>\n",
       "    </tr>\n",
       "    <tr>\n",
       "      <th>29433</th>\n",
       "      <td>CASSRTSGINEQFF</td>\n",
       "      <td>4358</td>\n",
       "    </tr>\n",
       "    <tr>\n",
       "      <th>29434</th>\n",
       "      <td>CASSSPLGYNEQFF</td>\n",
       "      <td>4359</td>\n",
       "    </tr>\n",
       "    <tr>\n",
       "      <th>29435</th>\n",
       "      <td>CASSSPLQYNEQFF</td>\n",
       "      <td>4359</td>\n",
       "    </tr>\n",
       "  </tbody>\n",
       "</table>\n",
       "<p>29436 rows × 2 columns</p>\n",
       "</div>"
      ],
      "text/plain": [
       "                   CDR3 cluster\n",
       "0      CASSVALAGVTDTQYF       0\n",
       "1      CASSVGLAGVTDTQYF       0\n",
       "2      CASSSRLAGGTDTQYF       0\n",
       "3      CASSSRLAVGTDTQYF       0\n",
       "4      CASSLGLAGGTDTQYF       0\n",
       "...                 ...     ...\n",
       "29431    CSVVGVRDTDTQYF    4357\n",
       "29432    CASSQTSGINEQFF    4358\n",
       "29433    CASSRTSGINEQFF    4358\n",
       "29434    CASSSPLGYNEQFF    4359\n",
       "29435    CASSSPLQYNEQFF    4359\n",
       "\n",
       "[29436 rows x 2 columns]"
      ]
     },
     "execution_count": 85,
     "metadata": {},
     "output_type": "execute_result"
    }
   ],
   "source": [
    "clusters_1 = result_1.clusters_df\n",
    "clusters_1"
   ]
  },
  {
   "cell_type": "markdown",
   "id": "4b911144",
   "metadata": {},
   "source": [
    "We can speed up the computation by tweaking a few of the parameters, such as `n_cpus` (the number of CPUs)..."
   ]
  },
  {
   "cell_type": "code",
   "execution_count": 11,
   "id": "072fdf01",
   "metadata": {},
   "outputs": [
    {
     "name": "stdout",
     "output_type": "stream",
     "text": [
      "Clustering 25000 TCRs using two-step approach.\n",
      "Total time to run ClusTCR: 6.030s\n"
     ]
    }
   ],
   "source": [
    "clustering_configuration_2 = Clustering(n_cpus = 8)\n",
    "result_2 = clustering_configuration_2.fit(data.cdr3)"
   ]
  },
  {
   "cell_type": "markdown",
   "id": "12ad2662",
   "metadata": {},
   "source": [
    "... or `faiss_cluster_size`, the size of the superclusters formed by faiss during the first step of the algorithm. "
   ]
  },
  {
   "cell_type": "code",
   "execution_count": 12,
   "id": "b193de26",
   "metadata": {},
   "outputs": [
    {
     "name": "stdout",
     "output_type": "stream",
     "text": [
      "Clustering 25000 TCRs using two-step approach.\n",
      "Total time to run ClusTCR: 5.196s\n"
     ]
    }
   ],
   "source": [
    "clustering_configuration_3 = Clustering(n_cpus = 8, faiss_cluster_size = 3000)\n",
    "result_3 = clustering_configuration_3.fit(data.cdr3)"
   ]
  },
  {
   "cell_type": "markdown",
   "id": "b9f42aeb",
   "metadata": {},
   "source": [
    "### 2.2. Including V gene information"
   ]
  },
  {
   "cell_type": "code",
   "execution_count": 13,
   "id": "6d90793c",
   "metadata": {},
   "outputs": [
    {
     "name": "stdout",
     "output_type": "stream",
     "text": [
      "Total time to run ClusTCR: 17.941s\n"
     ]
    }
   ],
   "source": [
    "vgene_clustering = Clustering(n_cpus = 8)\n",
    "result = vgene_clustering.fit(data, # <- input data\n",
    "                              include_vgene = True, # <- this parameter specifies that we want to include V gene information into the clustering\n",
    "                              cdr3_col = \"cdr3\", # <- name of the column containing the CDR3 information\n",
    "                              v_gene_col = \"vgene\") # <- name of the column containing the V gene information"
   ]
  },
  {
   "cell_type": "markdown",
   "id": "9cb0cf01-bffc-454b-b028-5c931109b661",
   "metadata": {},
   "source": [
    "### 2.3. Batch clustering\n",
    "In case the data set is too big to fit into RAM, ClusTCR provides a functionality to cluster the data in batches. With this approach, ClusTCR uses a (meaningful) subset of sequences to compute the cluster centroids for the pre-clustering step. Sequences will then be assigned to these centroids in batches, resolving potential memory issues."
   ]
  },
  {
   "cell_type": "markdown",
   "id": "9fe4b1ea-cde6-498c-ba7a-c606bc52c176",
   "metadata": {},
   "source": [
    "## 3. The ClusTCR Analysis class"
   ]
  },
  {
   "cell_type": "code",
   "execution_count": 16,
   "id": "8e9ab4bc-a250-4c54-9cf5-8be5345aa2f9",
   "metadata": {},
   "outputs": [],
   "source": [
    "from clustcr import ClusterAnalysis"
   ]
  },
  {
   "cell_type": "code",
   "execution_count": 24,
   "id": "3732515b-e8a6-4312-a12d-4c064abc9734",
   "metadata": {},
   "outputs": [
    {
     "name": "stderr",
     "output_type": "stream",
     "text": [
      "/home/sebastiaan/miniconda3/envs/clustcr/lib/python3.8/site-packages/numpy/lib/function_base.py:380: RuntimeWarning: Mean of empty slice.\n",
      "  avg = a.mean(axis)\n",
      "/home/sebastiaan/miniconda3/envs/clustcr/lib/python3.8/site-packages/numpy/core/_methods.py:189: RuntimeWarning: invalid value encountered in double_scalars\n",
      "  ret = ret.dtype.type(ret / rcount)\n"
     ]
    }
   ],
   "source": [
    "features = result_1.compute_features(compute_pgen=True)"
   ]
  },
  {
   "cell_type": "code",
   "execution_count": 32,
   "id": "bf935c74-0a9a-484e-b54b-4f3f95ab6735",
   "metadata": {},
   "outputs": [],
   "source": [
    "analysis = ClusterAnalysis(features.dropna())"
   ]
  },
  {
   "cell_type": "code",
   "execution_count": 33,
   "id": "fe78c46e-d80d-4e6f-9ff8-e44d051c2c60",
   "metadata": {},
   "outputs": [
    {
     "name": "stderr",
     "output_type": "stream",
     "text": [
      "/home/sebastiaan/miniconda3/envs/clustcr/lib/python3.8/site-packages/sklearn/base.py:329: UserWarning: Trying to unpickle estimator DecisionTreeClassifier from version 0.23.2 when using version 1.0.2. This might lead to breaking code or invalid results. Use at your own risk. For more info please refer to:\n",
      "https://scikit-learn.org/stable/modules/model_persistence.html#security-maintainability-limitations\n",
      "  warnings.warn(\n",
      "/home/sebastiaan/miniconda3/envs/clustcr/lib/python3.8/site-packages/sklearn/base.py:329: UserWarning: Trying to unpickle estimator RandomForestClassifier from version 0.23.2 when using version 1.0.2. This might lead to breaking code or invalid results. Use at your own risk. For more info please refer to:\n",
      "https://scikit-learn.org/stable/modules/model_persistence.html#security-maintainability-limitations\n",
      "  warnings.warn(\n"
     ]
    },
    {
     "data": {
      "text/plain": [
       "array([0., 0., 0., ..., 0., 1., 0.])"
      ]
     },
     "execution_count": 33,
     "metadata": {},
     "output_type": "execute_result"
    }
   ],
   "source": [
    "analysis.predict_quality()"
   ]
  },
  {
   "cell_type": "markdown",
   "id": "1537a582-6c5b-4d6a-bc3f-f0cad4fee900",
   "metadata": {
    "tags": []
   },
   "source": [
    "## 4. References\n",
    "For more information about the use of ClusTCR, you can visit the [documentation](https://svalkiers.github.io/clusTCR/). Here, the functionality of the package is described in much detail. In addition, bugs and errors can be reported them at the [issue section of the ClusTCR GitHub repository](https://github.com/svalkiers/clusTCR/issues).\n",
    "\n",
    "Finally, if you have any suggestions on features that could improve the ease-of-use of ClusTCR, feel free to report them to sebastiaan.valkiers@uantwerpen.be. "
   ]
  },
  {
   "cell_type": "code",
   "execution_count": 109,
   "id": "bfbdb264-0182-47cd-a250-839033d7f9b0",
   "metadata": {},
   "outputs": [
    {
     "data": {
      "text/html": [
       "<div>\n",
       "<style scoped>\n",
       "    .dataframe tbody tr th:only-of-type {\n",
       "        vertical-align: middle;\n",
       "    }\n",
       "\n",
       "    .dataframe tbody tr th {\n",
       "        vertical-align: top;\n",
       "    }\n",
       "\n",
       "    .dataframe thead th {\n",
       "        text-align: right;\n",
       "    }\n",
       "</style>\n",
       "<table border=\"1\" class=\"dataframe\">\n",
       "  <thead>\n",
       "    <tr style=\"text-align: right;\">\n",
       "      <th></th>\n",
       "      <th>GLIPH2</th>\n",
       "      <th>iSMART</th>\n",
       "      <th>TCRDist*</th>\n",
       "      <th>ClusTCR¹</th>\n",
       "      <th>ClusTCR²</th>\n",
       "      <th>n_sequences</th>\n",
       "    </tr>\n",
       "  </thead>\n",
       "  <tbody>\n",
       "    <tr>\n",
       "      <th>0</th>\n",
       "      <td>4.028589</td>\n",
       "      <td>1.932018</td>\n",
       "      <td>19.041265</td>\n",
       "      <td>0.337838</td>\n",
       "      <td>0.612711</td>\n",
       "      <td>5000</td>\n",
       "    </tr>\n",
       "    <tr>\n",
       "      <th>1</th>\n",
       "      <td>9.179032</td>\n",
       "      <td>5.227099</td>\n",
       "      <td>71.448323</td>\n",
       "      <td>0.592275</td>\n",
       "      <td>0.837702</td>\n",
       "      <td>10000</td>\n",
       "    </tr>\n",
       "    <tr>\n",
       "      <th>2</th>\n",
       "      <td>40.531305</td>\n",
       "      <td>23.846369</td>\n",
       "      <td>421.404110</td>\n",
       "      <td>2.671211</td>\n",
       "      <td>1.836339</td>\n",
       "      <td>25000</td>\n",
       "    </tr>\n",
       "    <tr>\n",
       "      <th>3</th>\n",
       "      <td>104.656528</td>\n",
       "      <td>88.388704</td>\n",
       "      <td>1617.357268</td>\n",
       "      <td>10.115226</td>\n",
       "      <td>3.930098</td>\n",
       "      <td>50000</td>\n",
       "    </tr>\n",
       "    <tr>\n",
       "      <th>4</th>\n",
       "      <td>329.717277</td>\n",
       "      <td>373.025516</td>\n",
       "      <td>6505.799121</td>\n",
       "      <td>26.080884</td>\n",
       "      <td>9.453557</td>\n",
       "      <td>100000</td>\n",
       "    </tr>\n",
       "    <tr>\n",
       "      <th>5</th>\n",
       "      <td>827.611274</td>\n",
       "      <td>1473.652592</td>\n",
       "      <td>25342.898450</td>\n",
       "      <td>102.821764</td>\n",
       "      <td>23.527746</td>\n",
       "      <td>200000</td>\n",
       "    </tr>\n",
       "    <tr>\n",
       "      <th>6</th>\n",
       "      <td>4049.424019</td>\n",
       "      <td>NaN</td>\n",
       "      <td>NaN</td>\n",
       "      <td>332.619048</td>\n",
       "      <td>74.376698</td>\n",
       "      <td>500000</td>\n",
       "    </tr>\n",
       "    <tr>\n",
       "      <th>7</th>\n",
       "      <td>7155.846695</td>\n",
       "      <td>NaN</td>\n",
       "      <td>NaN</td>\n",
       "      <td>675.633274</td>\n",
       "      <td>153.468177</td>\n",
       "      <td>750000</td>\n",
       "    </tr>\n",
       "    <tr>\n",
       "      <th>8</th>\n",
       "      <td>10441.701973</td>\n",
       "      <td>NaN</td>\n",
       "      <td>NaN</td>\n",
       "      <td>1172.267510</td>\n",
       "      <td>260.795980</td>\n",
       "      <td>1000000</td>\n",
       "    </tr>\n",
       "    <tr>\n",
       "      <th>9</th>\n",
       "      <td>4.339341</td>\n",
       "      <td>2.239123</td>\n",
       "      <td>19.999598</td>\n",
       "      <td>0.334921</td>\n",
       "      <td>0.860135</td>\n",
       "      <td>5000</td>\n",
       "    </tr>\n",
       "    <tr>\n",
       "      <th>10</th>\n",
       "      <td>9.748497</td>\n",
       "      <td>5.839000</td>\n",
       "      <td>72.679774</td>\n",
       "      <td>0.900239</td>\n",
       "      <td>1.289761</td>\n",
       "      <td>10000</td>\n",
       "    </tr>\n",
       "    <tr>\n",
       "      <th>11</th>\n",
       "      <td>44.959271</td>\n",
       "      <td>24.573324</td>\n",
       "      <td>441.927562</td>\n",
       "      <td>2.613911</td>\n",
       "      <td>2.066177</td>\n",
       "      <td>25000</td>\n",
       "    </tr>\n",
       "    <tr>\n",
       "      <th>12</th>\n",
       "      <td>117.637623</td>\n",
       "      <td>94.812372</td>\n",
       "      <td>1738.109710</td>\n",
       "      <td>11.059399</td>\n",
       "      <td>4.762739</td>\n",
       "      <td>50000</td>\n",
       "    </tr>\n",
       "    <tr>\n",
       "      <th>13</th>\n",
       "      <td>301.358497</td>\n",
       "      <td>327.263028</td>\n",
       "      <td>6379.951302</td>\n",
       "      <td>32.559275</td>\n",
       "      <td>9.850659</td>\n",
       "      <td>100000</td>\n",
       "    </tr>\n",
       "    <tr>\n",
       "      <th>14</th>\n",
       "      <td>1012.158793</td>\n",
       "      <td>1500.436910</td>\n",
       "      <td>NaN</td>\n",
       "      <td>111.313391</td>\n",
       "      <td>26.244616</td>\n",
       "      <td>200000</td>\n",
       "    </tr>\n",
       "    <tr>\n",
       "      <th>15</th>\n",
       "      <td>4697.456374</td>\n",
       "      <td>NaN</td>\n",
       "      <td>NaN</td>\n",
       "      <td>452.475037</td>\n",
       "      <td>89.659119</td>\n",
       "      <td>500000</td>\n",
       "    </tr>\n",
       "    <tr>\n",
       "      <th>16</th>\n",
       "      <td>6537.124273</td>\n",
       "      <td>NaN</td>\n",
       "      <td>NaN</td>\n",
       "      <td>734.602747</td>\n",
       "      <td>137.850591</td>\n",
       "      <td>750000</td>\n",
       "    </tr>\n",
       "    <tr>\n",
       "      <th>17</th>\n",
       "      <td>9871.302249</td>\n",
       "      <td>NaN</td>\n",
       "      <td>NaN</td>\n",
       "      <td>983.116932</td>\n",
       "      <td>211.197949</td>\n",
       "      <td>1000000</td>\n",
       "    </tr>\n",
       "    <tr>\n",
       "      <th>18</th>\n",
       "      <td>7.479849</td>\n",
       "      <td>2.240012</td>\n",
       "      <td>20.469784</td>\n",
       "      <td>0.343785</td>\n",
       "      <td>0.733471</td>\n",
       "      <td>5000</td>\n",
       "    </tr>\n",
       "    <tr>\n",
       "      <th>19</th>\n",
       "      <td>10.709105</td>\n",
       "      <td>5.979218</td>\n",
       "      <td>75.190592</td>\n",
       "      <td>0.824563</td>\n",
       "      <td>1.089367</td>\n",
       "      <td>10000</td>\n",
       "    </tr>\n",
       "    <tr>\n",
       "      <th>20</th>\n",
       "      <td>42.838358</td>\n",
       "      <td>25.943283</td>\n",
       "      <td>456.388350</td>\n",
       "      <td>2.569054</td>\n",
       "      <td>1.790627</td>\n",
       "      <td>25000</td>\n",
       "    </tr>\n",
       "    <tr>\n",
       "      <th>21</th>\n",
       "      <td>118.127079</td>\n",
       "      <td>94.913095</td>\n",
       "      <td>1716.469461</td>\n",
       "      <td>7.558789</td>\n",
       "      <td>3.239994</td>\n",
       "      <td>50000</td>\n",
       "    </tr>\n",
       "    <tr>\n",
       "      <th>22</th>\n",
       "      <td>292.507414</td>\n",
       "      <td>343.427929</td>\n",
       "      <td>6464.866806</td>\n",
       "      <td>35.286980</td>\n",
       "      <td>13.363633</td>\n",
       "      <td>100000</td>\n",
       "    </tr>\n",
       "    <tr>\n",
       "      <th>23</th>\n",
       "      <td>973.442611</td>\n",
       "      <td>922.781718</td>\n",
       "      <td>NaN</td>\n",
       "      <td>85.577213</td>\n",
       "      <td>21.652758</td>\n",
       "      <td>200000</td>\n",
       "    </tr>\n",
       "    <tr>\n",
       "      <th>24</th>\n",
       "      <td>5245.167549</td>\n",
       "      <td>NaN</td>\n",
       "      <td>NaN</td>\n",
       "      <td>326.460955</td>\n",
       "      <td>69.965894</td>\n",
       "      <td>500000</td>\n",
       "    </tr>\n",
       "    <tr>\n",
       "      <th>25</th>\n",
       "      <td>6806.780916</td>\n",
       "      <td>NaN</td>\n",
       "      <td>NaN</td>\n",
       "      <td>651.371691</td>\n",
       "      <td>135.952164</td>\n",
       "      <td>750000</td>\n",
       "    </tr>\n",
       "    <tr>\n",
       "      <th>26</th>\n",
       "      <td>9125.480460</td>\n",
       "      <td>NaN</td>\n",
       "      <td>NaN</td>\n",
       "      <td>887.483262</td>\n",
       "      <td>200.064494</td>\n",
       "      <td>1000000</td>\n",
       "    </tr>\n",
       "  </tbody>\n",
       "</table>\n",
       "</div>"
      ],
      "text/plain": [
       "          GLIPH2       iSMART      TCRDist*     ClusTCR¹    ClusTCR²  \\\n",
       "0       4.028589     1.932018     19.041265     0.337838    0.612711   \n",
       "1       9.179032     5.227099     71.448323     0.592275    0.837702   \n",
       "2      40.531305    23.846369    421.404110     2.671211    1.836339   \n",
       "3     104.656528    88.388704   1617.357268    10.115226    3.930098   \n",
       "4     329.717277   373.025516   6505.799121    26.080884    9.453557   \n",
       "5     827.611274  1473.652592  25342.898450   102.821764   23.527746   \n",
       "6    4049.424019          NaN           NaN   332.619048   74.376698   \n",
       "7    7155.846695          NaN           NaN   675.633274  153.468177   \n",
       "8   10441.701973          NaN           NaN  1172.267510  260.795980   \n",
       "9       4.339341     2.239123     19.999598     0.334921    0.860135   \n",
       "10      9.748497     5.839000     72.679774     0.900239    1.289761   \n",
       "11     44.959271    24.573324    441.927562     2.613911    2.066177   \n",
       "12    117.637623    94.812372   1738.109710    11.059399    4.762739   \n",
       "13    301.358497   327.263028   6379.951302    32.559275    9.850659   \n",
       "14   1012.158793  1500.436910           NaN   111.313391   26.244616   \n",
       "15   4697.456374          NaN           NaN   452.475037   89.659119   \n",
       "16   6537.124273          NaN           NaN   734.602747  137.850591   \n",
       "17   9871.302249          NaN           NaN   983.116932  211.197949   \n",
       "18      7.479849     2.240012     20.469784     0.343785    0.733471   \n",
       "19     10.709105     5.979218     75.190592     0.824563    1.089367   \n",
       "20     42.838358    25.943283    456.388350     2.569054    1.790627   \n",
       "21    118.127079    94.913095   1716.469461     7.558789    3.239994   \n",
       "22    292.507414   343.427929   6464.866806    35.286980   13.363633   \n",
       "23    973.442611   922.781718           NaN    85.577213   21.652758   \n",
       "24   5245.167549          NaN           NaN   326.460955   69.965894   \n",
       "25   6806.780916          NaN           NaN   651.371691  135.952164   \n",
       "26   9125.480460          NaN           NaN   887.483262  200.064494   \n",
       "\n",
       "    n_sequences  \n",
       "0          5000  \n",
       "1         10000  \n",
       "2         25000  \n",
       "3         50000  \n",
       "4        100000  \n",
       "5        200000  \n",
       "6        500000  \n",
       "7        750000  \n",
       "8       1000000  \n",
       "9          5000  \n",
       "10        10000  \n",
       "11        25000  \n",
       "12        50000  \n",
       "13       100000  \n",
       "14       200000  \n",
       "15       500000  \n",
       "16       750000  \n",
       "17      1000000  \n",
       "18         5000  \n",
       "19        10000  \n",
       "20        25000  \n",
       "21        50000  \n",
       "22       100000  \n",
       "23       200000  \n",
       "24       500000  \n",
       "25       750000  \n",
       "26      1000000  "
      ]
     },
     "execution_count": 109,
     "metadata": {},
     "output_type": "execute_result"
    }
   ],
   "source": [
    "speed"
   ]
  },
  {
   "cell_type": "code",
   "execution_count": 247,
   "id": "d74c2f4a-2235-4046-b319-9196a292a7d8",
   "metadata": {},
   "outputs": [],
   "source": [
    "def linear_fit(data, xcol, ycol):\n",
    "    \n",
    "    def linfunc(x, a, b):\n",
    "        return a * x + b\n",
    "    \n",
    "    subset = np.log10(\n",
    "        data[[xcol, ycol]]\n",
    "    ).dropna()\n",
    "    \n",
    "    xlog = subset[xcol]\n",
    "    ylog = subset[ycol]\n",
    "    \n",
    "    popt, _ = curve_fit(f = linfunc, \n",
    "                        xdata = xlog, \n",
    "                        ydata = ylog)\n",
    "    \n",
    "    xvals = np.log10(data[xcol].unique())\n",
    "    yvals = linfunc(xvals, *popt)\n",
    "    \n",
    "    return xvals, yvals\n",
    "\n",
    "def logarithmic_fit(data, xcol, ycol):\n",
    "    \n",
    "    def logfunc(x, a, b, c):\n",
    "        return a * np.exp(-b * (x + c))\n",
    "    \n",
    "    subset = np.log10(\n",
    "        data[[xcol, ycol]]\n",
    "    ).dropna()\n",
    "    \n",
    "    xlog = subset[xcol]\n",
    "    ylog = subset[ycol]\n",
    "    \n",
    "    popt, _ = curve_fit(f = logfunc, \n",
    "                        xdata = xlog, \n",
    "                        ydata = ylog)\n",
    "    \n",
    "    xvals = np.log10(data[xcol].unique())\n",
    "    yvals = logfunc(xvals, *popt)\n",
    "    \n",
    "    return xvals, yvals    \n",
    "\n",
    "def get_y(data, target_col):\n",
    "    return np.log10(data[target_col])"
   ]
  },
  {
   "cell_type": "code",
   "execution_count": 249,
   "id": "8ebc965a-6da6-4d58-b080-d1c23ab875ad",
   "metadata": {},
   "outputs": [
    {
     "name": "stderr",
     "output_type": "stream",
     "text": [
      "*c* argument looks like a single numeric RGB or RGBA sequence, which should be avoided as value-mapping will have precedence in case its length matches with *x* & *y*.  Please use the *color* keyword-argument or provide a 2D array with a single row if you intend to specify the same RGB or RGBA value for all points.\n",
      "*c* argument looks like a single numeric RGB or RGBA sequence, which should be avoided as value-mapping will have precedence in case its length matches with *x* & *y*.  Please use the *color* keyword-argument or provide a 2D array with a single row if you intend to specify the same RGB or RGBA value for all points.\n",
      "*c* argument looks like a single numeric RGB or RGBA sequence, which should be avoided as value-mapping will have precedence in case its length matches with *x* & *y*.  Please use the *color* keyword-argument or provide a 2D array with a single row if you intend to specify the same RGB or RGBA value for all points.\n",
      "*c* argument looks like a single numeric RGB or RGBA sequence, which should be avoided as value-mapping will have precedence in case its length matches with *x* & *y*.  Please use the *color* keyword-argument or provide a 2D array with a single row if you intend to specify the same RGB or RGBA value for all points.\n",
      "*c* argument looks like a single numeric RGB or RGBA sequence, which should be avoided as value-mapping will have precedence in case its length matches with *x* & *y*.  Please use the *color* keyword-argument or provide a 2D array with a single row if you intend to specify the same RGB or RGBA value for all points.\n",
      "/home/sebastiaan/miniconda3/envs/clustcr/lib/python3.8/site-packages/pandas/core/arraylike.py:397: RuntimeWarning: overflow encountered in exp\n",
      "  result = getattr(ufunc, method)(*inputs, **kwargs)\n",
      "*c* argument looks like a single numeric RGB or RGBA sequence, which should be avoided as value-mapping will have precedence in case its length matches with *x* & *y*.  Please use the *color* keyword-argument or provide a 2D array with a single row if you intend to specify the same RGB or RGBA value for all points.\n"
     ]
    },
    {
     "data": {
      "image/png": "[encoded data removed]",
      "text/plain": [
       "<Figure size 800x600 with 1 Axes>"
      ]
     },
     "metadata": {},
     "output_type": "display_data"
    }
   ],
   "source": [
    "import seaborn as sns\n",
    "\n",
    "speed = pd.read_csv(\"./data/method_comparison_speed.tsv\", sep=\"\\t\")\n",
    "\n",
    "ylabs = {\n",
    "    \"second\":np.log10(1),\n",
    "    \"minute\":np.log10(60),\n",
    "    \"hour\":np.log10(3600),\n",
    "    \"day\":np.log10(3600*24),\n",
    "    \"week\":np.log10(3600*24*7)\n",
    "    }\n",
    "\n",
    "x = np.log10(speed[\"n_sequences\"])\n",
    "colors = sns.color_palette(\"colorblind\")[:5]\n",
    "\n",
    "with sns.axes_style(\"whitegrid\"):\n",
    "\n",
    "    fig, ax = plt.subplots(figsize=(4,3), dpi=200)\n",
    "\n",
    "    method = \"ClusTCR¹\"\n",
    "    x_pred, y_pred = linear_fit(speed, \"n_sequences\", method)\n",
    "    ax.scatter(x, get_y(speed,method), s=10, c=colors[0])\n",
    "    ax.plot(x_pred, y_pred, label=\"ClusTCR\", alpha=.2, c=colors[0])\n",
    "\n",
    "    method = \"ClusTCR²\"\n",
    "    x_pred, y_pred = linear_fit(speed, \"n_sequences\", method)\n",
    "    ax.scatter(x, get_y(speed,method), s=10, c=colors[0])\n",
    "    ax.plot(x_pred, y_pred, label=\"ClusTCRmp\", alpha=.2, c=colors[0], ls=\"--\")\n",
    "\n",
    "    method = \"GLIPH2\"\n",
    "    x_pred, y_pred = linear_fit(speed, \"n_sequences\", method)\n",
    "    ax.scatter(x, get_y(speed,method), s=10, c=colors[1])\n",
    "    ax.plot(x_pred, y_pred, label=method, alpha=.2, c=colors[1])\n",
    "\n",
    "    method = \"iSMART\"\n",
    "    x_pred, y_pred = linear_fit(speed, \"n_sequences\", method)\n",
    "    ax.scatter(x, get_y(speed,method), s=10, c=colors[2])\n",
    "    ax.plot(x_pred, y_pred, label=method, alpha=.2, c=colors[2])\n",
    "\n",
    "    method = \"TCRDist*\"\n",
    "    x_pred, y_pred = linear_fit(speed, \"n_sequences\", method)\n",
    "    ax.scatter(x, get_y(speed,method), s=10, c=colors[3])\n",
    "    ax.plot(x_pred, y_pred, label=\"TCRDist\", alpha=.2, c=colors[3])\n",
    "\n",
    "    method = \"GIANA\"\n",
    "    x_pred, y_pred = logarithmic_fit(speed, \"n_sequences\", method)\n",
    "    ax.scatter(x, get_y(speed,method), s=10, c=colors[4])\n",
    "    ax.plot(x_pred, y_pred, label=method, alpha=.2, c=colors[4])\n",
    "\n",
    "    ax.set_xlabel(\"Number of sequences\")\n",
    "    ax.set_ylabel(\"Runtime\")\n",
    "\n",
    "    ax.set_yticks(list(ylabs.values()))\n",
    "    ax.set_yticklabels(list(ylabs.keys()), fontsize=5)\n",
    "\n",
    "    ax.set_xticks([4,5,6])\n",
    "    ax.set_xticklabels([\"10K\", \"100K\", \"1M\"], fontsize=5)\n",
    "\n",
    "    ax.legend(fontsize=8)\n",
    "    \n",
    "    sns.despine(left=True, bottom=True)\n",
    "    \n",
    "    fig.tight_layout()"
   ]
  },
  {
   "cell_type": "code",
   "execution_count": 251,
   "id": "24728dcb-375b-409f-b209-b6114195b129",
   "metadata": {},
   "outputs": [],
   "source": [
    "fig.savefig(\"/home/sebastiaan/PhD/Repositories/clustcr_demo/fig/benchmark.png\", format=\"png\")"
   ]
  },
  {
   "cell_type": "code",
   "execution_count": 248,
   "id": "5284ab5e-5fec-4774-b172-3acf8f92723f",
   "metadata": {},
   "outputs": [
    {
     "name": "stderr",
     "output_type": "stream",
     "text": [
      "/home/sebastiaan/miniconda3/envs/clustcr/lib/python3.8/site-packages/pandas/core/arraylike.py:397: RuntimeWarning: overflow encountered in exp\n",
      "  result = getattr(ufunc, method)(*inputs, **kwargs)\n"
     ]
    },
    {
     "data": {
      "text/plain": [
       "[<matplotlib.lines.Line2D at 0x7f6d676d5340>]"
      ]
     },
     "execution_count": 248,
     "metadata": {},
     "output_type": "execute_result"
    },
    {
     "data": {
      "image/png": "[encoded data removed]",
      "text/plain": [
       "<Figure size 432x288 with 1 Axes>"
      ]
     },
     "metadata": {
      "needs_background": "light"
     },
     "output_type": "display_data"
    }
   ],
   "source": [
    "plt.scatter(np.log10(speed.n_sequences), np.log10(speed.GIANA))\n",
    "plt.scatter(np.log10(speed.n_sequences), np.log10(speed[\"ClusTCR¹\"]))\n",
    "\n",
    "# xgi, ygi = linear_fit(speed, \"n_sequences\", \"GIANA\")\n",
    "xcl, ycl = linear_fit(speed, \"n_sequences\", \"ClusTCR¹\")\n",
    "\n",
    "xgi, ygi = logarithmic_fit(speed, \"n_sequences\", \"GIANA\")\n",
    "\n",
    "plt.plot(xgi, ygi)\n",
    "plt.plot(xcl, ycl)"
   ]
  },
  {
   "cell_type": "code",
   "execution_count": 244,
   "id": "ed1a19e3-b265-4022-846d-56d80e05911e",
   "metadata": {},
   "outputs": [],
   "source": [
    "def logfunc(x, a, b, c):\n",
    "    return a * np.exp(-b * (x + c))\n",
    "\n",
    "popt, _ = curve_fit(f = logfunc, \n",
    "                    xdata = np.log10(speed.n_sequences), \n",
    "                    ydata = np.log10(speed.GIANA))"
   ]
  },
  {
   "cell_type": "code",
   "execution_count": 245,
   "id": "7deda1cb-7f0c-4da3-863b-5129924140e9",
   "metadata": {},
   "outputs": [
    {
     "data": {
      "text/plain": [
       "array([ 0.20362813, -0.75993918, -2.36815716])"
      ]
     },
     "execution_count": 245,
     "metadata": {},
     "output_type": "execute_result"
    }
   ],
   "source": [
    "popt"
   ]
  }
 ],
 "metadata": {
  "kernelspec": {
   "display_name": "Python 3 (ipykernel)",
   "language": "python",
   "name": "python3"
  },
  "language_info": {
   "codemirror_mode": {
    "name": "ipython",
    "version": 3
   },
   "file_extension": ".py",
   "mimetype": "text/x-python",
   "name": "python",
   "nbconvert_exporter": "python",
   "pygments_lexer": "ipython3",
   "version": "3.8.12"
  }
 },
 "nbformat": 4,
 "nbformat_minor": 5
}
