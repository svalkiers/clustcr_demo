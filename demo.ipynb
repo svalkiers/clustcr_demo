{
 "cells": [
  {
   "cell_type": "markdown",
   "id": "3e808bc7",
   "metadata": {},
   "source": [
    "# **AIRR-C Meeting Software Demo: ClusTCR**"
   ]
  },
  {
   "cell_type": "markdown",
   "id": "9dd5eb9b-9483-435e-9fdc-fe23e87b9fd3",
   "metadata": {},
   "source": [
    "![](./workflow.png \"ClusTCR workflow\")"
   ]
  },
  {
   "cell_type": "markdown",
   "id": "229b8366-8a1c-4eb2-a8c2-c6d349b96574",
   "metadata": {},
   "source": [
    "## 1. Installation\n",
    "ClusTCR runs as a python package, and is available through the conda repository. Therefore, users should have installed anaconda to use make use of the ClusTCR. After installing anaconda, ClusTCR can be installed by running the following command in the command prompt: \n",
    "\\\n",
    "\\\n",
    "`$ conda install clustcr -c svalkiers -c bioconda -c pytorch -c conda-forge`"
   ]
  },
  {
   "cell_type": "markdown",
   "id": "3fad45d1",
   "metadata": {},
   "source": [
    "## 2. Importing data\n",
    "For the purpose of this software demonstration, we will use an example repertoire consisting of **100,000 unique TCR clonotypes** (V + J + CDR3). In addition to `clustcr` We will use the `pandas` library to handle the data."
   ]
  },
  {
   "cell_type": "code",
   "execution_count": 1,
   "id": "f55f174e",
   "metadata": {},
   "outputs": [],
   "source": [
    "import pandas as pd # We will use the pandas library for data handling"
   ]
  },
  {
   "cell_type": "code",
   "execution_count": 2,
   "id": "bf2ba511",
   "metadata": {},
   "outputs": [
    {
     "data": {
      "text/html": [
       "<div>\n",
       "<style scoped>\n",
       "    .dataframe tbody tr th:only-of-type {\n",
       "        vertical-align: middle;\n",
       "    }\n",
       "\n",
       "    .dataframe tbody tr th {\n",
       "        vertical-align: top;\n",
       "    }\n",
       "\n",
       "    .dataframe thead th {\n",
       "        text-align: right;\n",
       "    }\n",
       "</style>\n",
       "<table border=\"1\" class=\"dataframe\">\n",
       "  <thead>\n",
       "    <tr style=\"text-align: right;\">\n",
       "      <th></th>\n",
       "      <th>duplicate_count</th>\n",
       "      <th>frequency</th>\n",
       "      <th>vgene</th>\n",
       "      <th>jgene</th>\n",
       "      <th>cdr3</th>\n",
       "    </tr>\n",
       "  </thead>\n",
       "  <tbody>\n",
       "    <tr>\n",
       "      <th>0</th>\n",
       "      <td>52.0</td>\n",
       "      <td>0.000669</td>\n",
       "      <td>TRBV24-1*00</td>\n",
       "      <td>TRBJ2-3*00</td>\n",
       "      <td>CATSDRGVADTQYF</td>\n",
       "    </tr>\n",
       "    <tr>\n",
       "      <th>1</th>\n",
       "      <td>35.0</td>\n",
       "      <td>0.000451</td>\n",
       "      <td>TRBV7-2*00</td>\n",
       "      <td>TRBJ2-5*00</td>\n",
       "      <td>CASSLGLAALQETQYF</td>\n",
       "    </tr>\n",
       "    <tr>\n",
       "      <th>2</th>\n",
       "      <td>27.0</td>\n",
       "      <td>0.000348</td>\n",
       "      <td>TRBV4-1*00</td>\n",
       "      <td>TRBJ1-1*00</td>\n",
       "      <td>CASSQEGSPEAFF</td>\n",
       "    </tr>\n",
       "    <tr>\n",
       "      <th>3</th>\n",
       "      <td>25.0</td>\n",
       "      <td>0.000322</td>\n",
       "      <td>TRBV6-1*00</td>\n",
       "      <td>TRBJ1-2*00</td>\n",
       "      <td>CASSWGQDGYTF</td>\n",
       "    </tr>\n",
       "    <tr>\n",
       "      <th>4</th>\n",
       "      <td>25.0</td>\n",
       "      <td>0.000322</td>\n",
       "      <td>TRBV6-2*00</td>\n",
       "      <td>TRBJ2-1*00</td>\n",
       "      <td>CASTDWTSGNEQFF</td>\n",
       "    </tr>\n",
       "    <tr>\n",
       "      <th>...</th>\n",
       "      <td>...</td>\n",
       "      <td>...</td>\n",
       "      <td>...</td>\n",
       "      <td>...</td>\n",
       "      <td>...</td>\n",
       "    </tr>\n",
       "    <tr>\n",
       "      <th>99995</th>\n",
       "      <td>1.0</td>\n",
       "      <td>0.000006</td>\n",
       "      <td>TRBV18*00</td>\n",
       "      <td>TRBJ2-2*00</td>\n",
       "      <td>CASSPKGTANTGELFF</td>\n",
       "    </tr>\n",
       "    <tr>\n",
       "      <th>99996</th>\n",
       "      <td>1.0</td>\n",
       "      <td>0.000006</td>\n",
       "      <td>TRBV20-1*00</td>\n",
       "      <td>TRBJ1-1*00</td>\n",
       "      <td>CSARGDTGRDTEAFF</td>\n",
       "    </tr>\n",
       "    <tr>\n",
       "      <th>99997</th>\n",
       "      <td>1.0</td>\n",
       "      <td>0.000006</td>\n",
       "      <td>TRBV29-1*00</td>\n",
       "      <td>TRBJ2-7*00</td>\n",
       "      <td>CSALQGPYEQYF</td>\n",
       "    </tr>\n",
       "    <tr>\n",
       "      <th>99998</th>\n",
       "      <td>1.0</td>\n",
       "      <td>0.000006</td>\n",
       "      <td>TRBV20-1*00</td>\n",
       "      <td>TRBJ2-7*00</td>\n",
       "      <td>CSALPARGSLYEQYF</td>\n",
       "    </tr>\n",
       "    <tr>\n",
       "      <th>99999</th>\n",
       "      <td>1.0</td>\n",
       "      <td>0.000006</td>\n",
       "      <td>TRBV3-1*00</td>\n",
       "      <td>TRBJ1-5*00</td>\n",
       "      <td>CASSQEKGTGSNQPQHF</td>\n",
       "    </tr>\n",
       "  </tbody>\n",
       "</table>\n",
       "<p>100000 rows × 5 columns</p>\n",
       "</div>"
      ],
      "text/plain": [
       "       duplicate_count  frequency        vgene       jgene               cdr3\n",
       "0                 52.0   0.000669  TRBV24-1*00  TRBJ2-3*00     CATSDRGVADTQYF\n",
       "1                 35.0   0.000451   TRBV7-2*00  TRBJ2-5*00   CASSLGLAALQETQYF\n",
       "2                 27.0   0.000348   TRBV4-1*00  TRBJ1-1*00      CASSQEGSPEAFF\n",
       "3                 25.0   0.000322   TRBV6-1*00  TRBJ1-2*00       CASSWGQDGYTF\n",
       "4                 25.0   0.000322   TRBV6-2*00  TRBJ2-1*00     CASTDWTSGNEQFF\n",
       "...                ...        ...          ...         ...                ...\n",
       "99995              1.0   0.000006    TRBV18*00  TRBJ2-2*00   CASSPKGTANTGELFF\n",
       "99996              1.0   0.000006  TRBV20-1*00  TRBJ1-1*00    CSARGDTGRDTEAFF\n",
       "99997              1.0   0.000006  TRBV29-1*00  TRBJ2-7*00       CSALQGPYEQYF\n",
       "99998              1.0   0.000006  TRBV20-1*00  TRBJ2-7*00    CSALPARGSLYEQYF\n",
       "99999              1.0   0.000006   TRBV3-1*00  TRBJ1-5*00  CASSQEKGTGSNQPQHF\n",
       "\n",
       "[100000 rows x 5 columns]"
      ]
     },
     "execution_count": 2,
     "metadata": {},
     "output_type": "execute_result"
    }
   ],
   "source": [
    "data = pd.read_csv(\"./data/repertoire.tsv\", sep=\"\\t\")\n",
    "data"
   ]
  },
  {
   "cell_type": "markdown",
   "id": "af6a5c2d",
   "metadata": {},
   "source": [
    "## 3. Applying the clustcr clustering library"
   ]
  },
  {
   "cell_type": "code",
   "execution_count": 4,
   "id": "6558df47-f590-4198-9ee2-1485b3e9e000",
   "metadata": {},
   "outputs": [],
   "source": [
    "from clustcr import Clustering # We will use the clustcr library for TCR clustering"
   ]
  },
  {
   "cell_type": "markdown",
   "id": "9a958525-7dd4-482c-9a2f-4f459f2e370b",
   "metadata": {},
   "source": [
    "ClusTCR is a clustering library specifically developed for fast and efficient grouping of TCR sequences, based on their sequence similarity. ClusTCR was benchmarked for clustering accuracy and computational performance against other published TCR clustering methods, including TCRDist, GLIPH2, iSMART and the recent GIANA. ClusTCR shows significant improvement in speed while maintaining comparable accuracy with other tools.\n",
    "<center><img src=\"./fig/benchmark.png\"/></center>"
   ]
  },
  {
   "cell_type": "markdown",
   "id": "6c63d4a0-5615-4a65-85e4-7c8f1aec1211",
   "metadata": {},
   "source": [
    "### 3.1. CDR3-based clustering (vanilla ClusTCR)\n",
    "We start with an easy example, in which we use the **default parameters** of ClusTCR to cluster the **CDR3 sequences** in the input data. ClusTCR uses the follows the `scikit-klearn` practices, so we start by generating a Clustering object to which we will fit the data."
   ]
  },
  {
   "cell_type": "code",
   "execution_count": 84,
   "id": "bb0ea7d3",
   "metadata": {},
   "outputs": [
    {
     "name": "stdout",
     "output_type": "stream",
     "text": [
      "Clustering 100000 TCRs using two-step approach.\n",
      "Total time to run ClusTCR: 32.979s\n"
     ]
    }
   ],
   "source": [
    "clustering_configuration_1 = Clustering()\n",
    "result_1 = clustering_configuration_1.fit(data.cdr3)"
   ]
  },
  {
   "cell_type": "markdown",
   "id": "5e8b97e6-526f-4904-b4e8-7d46a330f5c0",
   "metadata": {},
   "source": [
    "Next, we can access the clustering results via the `.clusters_df` attribute."
   ]
  },
  {
   "cell_type": "code",
   "execution_count": 85,
   "id": "d270ccd3-762a-476e-a429-adb93f4e7203",
   "metadata": {},
   "outputs": [
    {
     "data": {
      "text/html": [
       "<div>\n",
       "<style scoped>\n",
       "    .dataframe tbody tr th:only-of-type {\n",
       "        vertical-align: middle;\n",
       "    }\n",
       "\n",
       "    .dataframe tbody tr th {\n",
       "        vertical-align: top;\n",
       "    }\n",
       "\n",
       "    .dataframe thead th {\n",
       "        text-align: right;\n",
       "    }\n",
       "</style>\n",
       "<table border=\"1\" class=\"dataframe\">\n",
       "  <thead>\n",
       "    <tr style=\"text-align: right;\">\n",
       "      <th></th>\n",
       "      <th>CDR3</th>\n",
       "      <th>cluster</th>\n",
       "    </tr>\n",
       "  </thead>\n",
       "  <tbody>\n",
       "    <tr>\n",
       "      <th>0</th>\n",
       "      <td>CASSVALAGVTDTQYF</td>\n",
       "      <td>0</td>\n",
       "    </tr>\n",
       "    <tr>\n",
       "      <th>1</th>\n",
       "      <td>CASSVGLAGVTDTQYF</td>\n",
       "      <td>0</td>\n",
       "    </tr>\n",
       "    <tr>\n",
       "      <th>2</th>\n",
       "      <td>CASSSRLAGGTDTQYF</td>\n",
       "      <td>0</td>\n",
       "    </tr>\n",
       "    <tr>\n",
       "      <th>3</th>\n",
       "      <td>CASSSRLAVGTDTQYF</td>\n",
       "      <td>0</td>\n",
       "    </tr>\n",
       "    <tr>\n",
       "      <th>4</th>\n",
       "      <td>CASSLGLAGGTDTQYF</td>\n",
       "      <td>0</td>\n",
       "    </tr>\n",
       "    <tr>\n",
       "      <th>...</th>\n",
       "      <td>...</td>\n",
       "      <td>...</td>\n",
       "    </tr>\n",
       "    <tr>\n",
       "      <th>29431</th>\n",
       "      <td>CSVVGVRDTDTQYF</td>\n",
       "      <td>4357</td>\n",
       "    </tr>\n",
       "    <tr>\n",
       "      <th>29432</th>\n",
       "      <td>CASSQTSGINEQFF</td>\n",
       "      <td>4358</td>\n",
       "    </tr>\n",
       "    <tr>\n",
       "      <th>29433</th>\n",
       "      <td>CASSRTSGINEQFF</td>\n",
       "      <td>4358</td>\n",
       "    </tr>\n",
       "    <tr>\n",
       "      <th>29434</th>\n",
       "      <td>CASSSPLGYNEQFF</td>\n",
       "      <td>4359</td>\n",
       "    </tr>\n",
       "    <tr>\n",
       "      <th>29435</th>\n",
       "      <td>CASSSPLQYNEQFF</td>\n",
       "      <td>4359</td>\n",
       "    </tr>\n",
       "  </tbody>\n",
       "</table>\n",
       "<p>29436 rows × 2 columns</p>\n",
       "</div>"
      ],
      "text/plain": [
       "                   CDR3 cluster\n",
       "0      CASSVALAGVTDTQYF       0\n",
       "1      CASSVGLAGVTDTQYF       0\n",
       "2      CASSSRLAGGTDTQYF       0\n",
       "3      CASSSRLAVGTDTQYF       0\n",
       "4      CASSLGLAGGTDTQYF       0\n",
       "...                 ...     ...\n",
       "29431    CSVVGVRDTDTQYF    4357\n",
       "29432    CASSQTSGINEQFF    4358\n",
       "29433    CASSRTSGINEQFF    4358\n",
       "29434    CASSSPLGYNEQFF    4359\n",
       "29435    CASSSPLQYNEQFF    4359\n",
       "\n",
       "[29436 rows x 2 columns]"
      ]
     },
     "execution_count": 85,
     "metadata": {},
     "output_type": "execute_result"
    }
   ],
   "source": [
    "clusters_1 = result_1.clusters_df\n",
    "clusters_1"
   ]
  },
  {
   "cell_type": "markdown",
   "id": "f565cca6-2580-46b9-a57a-d0f0c85317da",
   "metadata": {},
   "source": [
    "### 3.2. What's happening under the hood?\n",
    "By default ClusTCR uses a **two-step** clustering approach, that combines a fast **preclustering** step with a careful, slower **subclustering** step for identification of TCR clusters. These steps have been implemented individually within the ClusTCR ecosystem. Therefore, they can be used as such.\n",
    "#### 3.2.1. The first clustering step: computing superclusters\n",
    "In the first clustering step, ClusTCR employs the the rapid K-means implementation of the `faiss` library to find large clusters of *roughly* identical sequences.\n",
    "![](./fig/step_1.png)"
   ]
  },
  {
   "cell_type": "code",
   "execution_count": 9,
   "id": "add011d2-2592-4d70-98ce-5c6dbd3b4c41",
   "metadata": {},
   "outputs": [
    {
     "name": "stdout",
     "output_type": "stream",
     "text": [
      "Clustering using faiss approach.\n",
      "Total time to run ClusTCR: 2.014s\n"
     ]
    }
   ],
   "source": [
    "faiss_clustering = Clustering(method=\"faiss\")\n",
    "faiss_results = faiss_clustering.fit(data.cdr3)\n",
    "superclusters = faiss_results.clusters_df"
   ]
  },
  {
   "cell_type": "markdown",
   "id": "27f08112-5cc4-4432-9b19-ab1f221db685",
   "metadata": {},
   "source": [
    "#### 3.2.1. The second clustering step: subclustering the superclusters\n",
    "During the second clustering step, a detailed subclustering will be performed on each individual supercluster. To do this, ClusTCR uses a network clustering approach (by default: Markov Clustering algorithm, MCL). This implies the construction of a similarity network, onto which the clustering can be performed. ClusTCR uses a **Hamming distance of 1** as a cutoff to determine similarity between any two CDR3 sequences.\n",
    "![](./fig/step_2.png)"
   ]
  },
  {
   "cell_type": "markdown",
   "id": "51bbedfb-f467-421e-84de-2651a0a3b4ac",
   "metadata": {},
   "source": [
    "In this example we manually apply MCL on each supercluster individually. The default **two-step** method of ClusTCR automates this process and performs this subclustering in parallel across multiple CPUs."
   ]
  },
  {
   "cell_type": "code",
   "execution_count": 11,
   "id": "40b90299-038d-4351-b9e8-d9e278ad7515",
   "metadata": {},
   "outputs": [
    {
     "name": "stdout",
     "output_type": "stream",
     "text": [
      "Clustering using MCL approach.\n",
      "Total time to run ClusTCR: 0.901s\n",
      "Clustering using MCL approach.\n",
      "Total time to run ClusTCR: 0.245s\n",
      "Clustering using MCL approach.\n",
      "Total time to run ClusTCR: 2.147s\n",
      "Clustering using MCL approach.\n",
      "Total time to run ClusTCR: 0.724s\n",
      "Clustering using MCL approach.\n",
      "Total time to run ClusTCR: 6.656s\n",
      "Clustering using MCL approach.\n",
      "Total time to run ClusTCR: 0.370s\n",
      "Clustering using MCL approach.\n",
      "Total time to run ClusTCR: 1.534s\n",
      "Clustering using MCL approach.\n",
      "Total time to run ClusTCR: 0.089s\n",
      "Clustering using MCL approach.\n",
      "Total time to run ClusTCR: 4.263s\n",
      "Clustering using MCL approach.\n",
      "Total time to run ClusTCR: 1.231s\n",
      "Clustering using MCL approach.\n",
      "Total time to run ClusTCR: 2.254s\n",
      "Clustering using MCL approach.\n",
      "Total time to run ClusTCR: 1.556s\n",
      "Clustering using MCL approach.\n",
      "Total time to run ClusTCR: 1.037s\n",
      "Clustering using MCL approach.\n",
      "Total time to run ClusTCR: 2.779s\n",
      "Clustering using MCL approach.\n",
      "Total time to run ClusTCR: 0.925s\n",
      "Clustering using MCL approach.\n",
      "Total time to run ClusTCR: 0.045s\n",
      "Clustering using MCL approach.\n",
      "Total time to run ClusTCR: 0.564s\n",
      "Clustering using MCL approach.\n",
      "Total time to run ClusTCR: 0.078s\n",
      "Clustering using MCL approach.\n",
      "Total time to run ClusTCR: 0.166s\n",
      "Clustering using MCL approach.\n",
      "Total time to run ClusTCR: 0.318s\n"
     ]
    }
   ],
   "source": [
    "for cluster in superclusters.cluster.unique():\n",
    "    subcluster = superclusters[superclusters.cluster == cluster].CDR3\n",
    "    mcl_clustering = Clustering(method=\"mcl\")\n",
    "    mcl_results = mcl_clustering.fit(subcluster)"
   ]
  },
  {
   "cell_type": "markdown",
   "id": "7a9b4314-5975-4245-9a14-c591b5d84518",
   "metadata": {},
   "source": [
    "### 3.3. Beyond the default settings\n",
    "We can speed up the computation by tweaking a few of the parameters, such as `n_cpus` (the number of CPUs)..."
   ]
  },
  {
   "cell_type": "code",
   "execution_count": 11,
   "id": "072fdf01",
   "metadata": {},
   "outputs": [
    {
     "name": "stdout",
     "output_type": "stream",
     "text": [
      "Clustering 25000 TCRs using two-step approach.\n",
      "Total time to run ClusTCR: 6.030s\n"
     ]
    }
   ],
   "source": [
    "clustering_configuration_2 = Clustering(n_cpus = 8)\n",
    "result_2 = clustering_configuration_2.fit(data.cdr3)"
   ]
  },
  {
   "cell_type": "markdown",
   "id": "12ad2662",
   "metadata": {},
   "source": [
    "... or `faiss_cluster_size`, the size of the superclusters formed by faiss during the first step of the algorithm. "
   ]
  },
  {
   "cell_type": "code",
   "execution_count": 12,
   "id": "b193de26",
   "metadata": {},
   "outputs": [
    {
     "name": "stdout",
     "output_type": "stream",
     "text": [
      "Clustering 25000 TCRs using two-step approach.\n",
      "Total time to run ClusTCR: 5.196s\n"
     ]
    }
   ],
   "source": [
    "clustering_configuration_3 = Clustering(n_cpus = 8, faiss_cluster_size = 3000)\n",
    "result_3 = clustering_configuration_3.fit(data.cdr3)"
   ]
  },
  {
   "cell_type": "markdown",
   "id": "b9f42aeb",
   "metadata": {},
   "source": [
    "### 3.4. Including V gene information"
   ]
  },
  {
   "cell_type": "code",
   "execution_count": 13,
   "id": "6d90793c",
   "metadata": {},
   "outputs": [
    {
     "name": "stdout",
     "output_type": "stream",
     "text": [
      "Total time to run ClusTCR: 17.941s\n"
     ]
    }
   ],
   "source": [
    "vgene_clustering = Clustering(n_cpus = 8)\n",
    "result = vgene_clustering.fit(data, # <- input data\n",
    "                              include_vgene = True, # <- this parameter specifies that we want to include V gene information into the clustering\n",
    "                              cdr3_col = \"cdr3\", # <- name of the column containing the CDR3 information\n",
    "                              v_gene_col = \"vgene\") # <- name of the column containing the V gene information"
   ]
  },
  {
   "cell_type": "markdown",
   "id": "9cb0cf01-bffc-454b-b028-5c931109b661",
   "metadata": {},
   "source": [
    "### 3.5. Batch clustering\n",
    "In case the data set is too big to fit into RAM, ClusTCR provides a functionality to cluster the data in batches. With this approach, ClusTCR uses a (meaningful) subset of sequences to compute the cluster centroids for the pre-clustering step. Sequences will then be assigned to these centroids in batches, resolving potential memory issues."
   ]
  },
  {
   "cell_type": "code",
   "execution_count": 12,
   "id": "0dea7c65-5ce2-450b-bb54-46c1fcddd2a4",
   "metadata": {},
   "outputs": [],
   "source": [
    "import os # We will need the os library to scan the directory containing the different files"
   ]
  },
  {
   "cell_type": "markdown",
   "id": "4f35770b-ee2a-47d8-b5ea-408a480d03ea",
   "metadata": {},
   "source": [
    "We'll start by identifying the names of the files we want to batch cluster. We will do this using the `os.listdir()` function."
   ]
  },
  {
   "cell_type": "code",
   "execution_count": 33,
   "id": "66d49bf8-bcdd-4951-b81e-e813439eaf01",
   "metadata": {},
   "outputs": [],
   "source": [
    "files = os.listdir(\"./data/bigrep/\")"
   ]
  },
  {
   "cell_type": "markdown",
   "id": "11d6f662-85c0-4dd5-b9d9-baf521ef5a1d",
   "metadata": {},
   "source": [
    "Next, we use a representative sample of our large repertoire to initialize the clustering centres (centroids). In this dummy example, the size of our large repertoire is 100,000 sequences, so we will use a sample of approximately 20,000 to fit the centroids."
   ]
  },
  {
   "cell_type": "code",
   "execution_count": 41,
   "id": "b0f14aa2-c5b0-4b7d-895f-337c69e039d8",
   "metadata": {},
   "outputs": [],
   "source": [
    "sample = pd.read_csv(\"./data/representative_sample.tsv\", sep=\"\\t\")\n",
    "\n",
    "clustering = Clustering(\n",
    "    faiss_training_data=sample.cdr3,\n",
    "    fitting_data_size=100000,\n",
    "    max_sequence_size=25\n",
    "    )"
   ]
  },
  {
   "cell_type": "markdown",
   "id": "6e640315-a143-4a64-b1af-edf86f904d4f",
   "metadata": {},
   "source": [
    "Now we precluster the data. During this step, the algorithm will assign the sequences within each batch to their closest centroid."
   ]
  },
  {
   "cell_type": "code",
   "execution_count": null,
   "id": "62b8a42c-1af0-471a-9837-f23a8f506b68",
   "metadata": {},
   "outputs": [],
   "source": [
    "for file in files:\n",
    "    filepath = os.path.join(\"./data/bigrep/\", file)\n",
    "    batch = pd.read_csv(filepath, sep=\"\\t\")\n",
    "    clustering.batch_precluster(batch.cdr3)"
   ]
  },
  {
   "cell_type": "markdown",
   "id": "85a99255-c27b-4d9f-b06f-5466cf766c45",
   "metadata": {},
   "source": [
    "Next, we perform the second clustering step. Again, in batches."
   ]
  },
  {
   "cell_type": "code",
   "execution_count": null,
   "id": "403c9a98-10c1-4734-8e6c-8da8db2fb95d",
   "metadata": {},
   "outputs": [],
   "source": [
    "results = [clusters for clusters in clustering.batch_cluster()]"
   ]
  },
  {
   "cell_type": "markdown",
   "id": "acb57a3b-c7ad-4be2-b4a1-e621f1cb788b",
   "metadata": {},
   "source": [
    "In the process, a temporary directory is created that includes a file for each precluster. To remove this at the end, the cleanup function can be called."
   ]
  },
  {
   "cell_type": "code",
   "execution_count": null,
   "id": "f7f7159c-47a3-4487-96c0-dfe06fa25b81",
   "metadata": {},
   "outputs": [],
   "source": [
    "clustering.batch_cleanup()"
   ]
  },
  {
   "cell_type": "markdown",
   "id": "9fe4b1ea-cde6-498c-ba7a-c606bc52c176",
   "metadata": {},
   "source": [
    "## 3. The ClusTCR Analysis class"
   ]
  },
  {
   "cell_type": "code",
   "execution_count": 16,
   "id": "8e9ab4bc-a250-4c54-9cf5-8be5345aa2f9",
   "metadata": {},
   "outputs": [],
   "source": [
    "from clustcr import ClusterAnalysis"
   ]
  },
  {
   "cell_type": "code",
   "execution_count": 24,
   "id": "3732515b-e8a6-4312-a12d-4c064abc9734",
   "metadata": {},
   "outputs": [
    {
     "name": "stderr",
     "output_type": "stream",
     "text": [
      "/home/sebastiaan/miniconda3/envs/clustcr/lib/python3.8/site-packages/numpy/lib/function_base.py:380: RuntimeWarning: Mean of empty slice.\n",
      "  avg = a.mean(axis)\n",
      "/home/sebastiaan/miniconda3/envs/clustcr/lib/python3.8/site-packages/numpy/core/_methods.py:189: RuntimeWarning: invalid value encountered in double_scalars\n",
      "  ret = ret.dtype.type(ret / rcount)\n"
     ]
    }
   ],
   "source": [
    "features = result_1.compute_features(compute_pgen=True)"
   ]
  },
  {
   "cell_type": "code",
   "execution_count": 32,
   "id": "bf935c74-0a9a-484e-b54b-4f3f95ab6735",
   "metadata": {},
   "outputs": [],
   "source": [
    "analysis = ClusterAnalysis(features.dropna())"
   ]
  },
  {
   "cell_type": "code",
   "execution_count": 33,
   "id": "fe78c46e-d80d-4e6f-9ff8-e44d051c2c60",
   "metadata": {},
   "outputs": [
    {
     "name": "stderr",
     "output_type": "stream",
     "text": [
      "/home/sebastiaan/miniconda3/envs/clustcr/lib/python3.8/site-packages/sklearn/base.py:329: UserWarning: Trying to unpickle estimator DecisionTreeClassifier from version 0.23.2 when using version 1.0.2. This might lead to breaking code or invalid results. Use at your own risk. For more info please refer to:\n",
      "https://scikit-learn.org/stable/modules/model_persistence.html#security-maintainability-limitations\n",
      "  warnings.warn(\n",
      "/home/sebastiaan/miniconda3/envs/clustcr/lib/python3.8/site-packages/sklearn/base.py:329: UserWarning: Trying to unpickle estimator RandomForestClassifier from version 0.23.2 when using version 1.0.2. This might lead to breaking code or invalid results. Use at your own risk. For more info please refer to:\n",
      "https://scikit-learn.org/stable/modules/model_persistence.html#security-maintainability-limitations\n",
      "  warnings.warn(\n"
     ]
    },
    {
     "data": {
      "text/plain": [
       "array([0., 0., 0., ..., 0., 1., 0.])"
      ]
     },
     "execution_count": 33,
     "metadata": {},
     "output_type": "execute_result"
    }
   ],
   "source": [
    "analysis.predict_quality()"
   ]
  },
  {
   "cell_type": "markdown",
   "id": "1537a582-6c5b-4d6a-bc3f-f0cad4fee900",
   "metadata": {
    "tags": []
   },
   "source": [
    "## 4. References\n",
    "The complete source code and data of this demo are available at [https://github.com/svalkiers/clustcr_demo](https://github.com/svalkiers/clustcr_demo).\n",
    "\\\n",
    "\\\n",
    "For more information about the use of ClusTCR, you can visit the [documentation](https://svalkiers.github.io/clusTCR/). Here, the functionality of the package is described in much detail. In addition, bugs and errors can be reported them at the [issue section of the ClusTCR GitHub repository](https://github.com/svalkiers/clusTCR/issues).\n",
    "\\\n",
    "\\\n",
    "To learn more about the underlying methodology, please read the [ClusTCR article in Bioinformatics](https://doi.org/10.1093/bioinformatics/btab446):\n",
    "\\\n",
    "<sub>\n",
    "Valkiers, S., Van Houcke, M., Laukens, K., & Meysman, P. (2021). **ClusTCR: a Python interface for rapid clustering of large sets of CDR3 sequences with unknown antigen specificity.** *Bioinformatics*, 37(24), 4865-4867.\n",
    "</sub>\n",
    "\\\n",
    "\\\n",
    "Finally, if you have any suggestions on features that could improve the ease-of-use of ClusTCR, feel free to report them to sebastiaan.valkiers@uantwerpen.be. "
   ]
  }
 ],
 "metadata": {
  "kernelspec": {
   "display_name": "Python 3 (ipykernel)",
   "language": "python",
   "name": "python3"
  },
  "language_info": {
   "codemirror_mode": {
    "name": "ipython",
    "version": 3
   },
   "file_extension": ".py",
   "mimetype": "text/x-python",
   "name": "python",
   "nbconvert_exporter": "python",
   "pygments_lexer": "ipython3",
   "version": "3.8.12"
  }
 },
 "nbformat": 4,
 "nbformat_minor": 5
}
