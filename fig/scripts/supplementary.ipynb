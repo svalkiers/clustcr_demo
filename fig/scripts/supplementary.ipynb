{
 "cells": [
  {
   "cell_type": "code",
   "execution_count": null,
   "id": "d876a360-5b23-488b-8db0-46de56c8db93",
   "metadata": {},
   "outputs": [],
   "source": [
    "from clustcr import ClusterAnalysis\n",
    "\n",
    "features = result_1.compute_features(compute_pgen=True)\n",
    "analysis = ClusterAnalysis(features.dropna())\n",
    "analysis.predict_quality()"
   ]
  }
 ],
 "metadata": {
  "kernelspec": {
   "display_name": "Python 3 (ipykernel)",
   "language": "python",
   "name": "python3"
  },
  "language_info": {
   "codemirror_mode": {
    "name": "ipython",
    "version": 3
   },
   "file_extension": ".py",
   "mimetype": "text/x-python",
   "name": "python",
   "nbconvert_exporter": "python",
   "pygments_lexer": "ipython3",
   "version": "3.8.12"
  }
 },
 "nbformat": 4,
 "nbformat_minor": 5
}
